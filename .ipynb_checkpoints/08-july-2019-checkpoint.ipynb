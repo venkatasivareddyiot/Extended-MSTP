{
 "cells": [
  {
   "cell_type": "markdown",
   "metadata": {},
   "source": [
    "## problem Set\n",
    "- Function to print all numbers divisible by 6 and not a factor of 100 in a given range(lb, ub) inclusive\n",
    "- Function to find the average of cubes of all even numbers in a given range(lb, ub) inclusive\n",
    "- Function to generate the list of factors for a given number\n",
    "- Function to calculate the factorial of a given number\n",
    "- Function to check if a given number is Prime\n",
    "- Function to calculate the average first N Prime numbers\n",
    "- Function to generate all Perfect numbers in a given range\n",
    "- Advanced Problem Set( Optional )\n",
    "- Function to calculate the average of all factorials in a given range\n",
    "- Function to generate N odd Armstrong numbers\n",
    "- Function to generate Multiplication table for a number in a given range\n",
    "- - 10 in the range(100, 102) inclusive\n",
    "- - 10 x 100 = 1000\n",
    "- - 10 x 101 = 1010\n",
    "- - 10 x 102 = 1020\n",
    "## Problems That needs a Try\n",
    "\n",
    "- You are given a string and your task is to swap cases. In other words, convert all lowercase letters to uppercase letters and vice versa. (The String may contain special characters).\n",
    "- Given an integer, ’n’ , perform the following conditional actions:\n",
    "- - If ‘n’  is odd, print Weird\n",
    "- - If  ‘n’ is even and in the inclusive range of 2 to 5, print Not Weird\n",
    "- - If  ‘n’ is even and in the inclusive range of 6 to 20 , print Weird\n",
    "- - If  ‘n’ is even and greater than 20, print Not Weird\n",
    "- - Given the participants ‘n’ score sheet for your University Sports Day, you are required to find the runner-up score. You are given scores. Store them in a list and find the score of the runner-up. (there can be multiple winners - if their scores match). \n"
   ]
  },
  {
   "cell_type": "code",
   "execution_count": 42,
   "metadata": {},
   "outputs": [
    {
     "name": "stdout",
     "output_type": "stream",
     "text": [
      "1\n",
      "1000\n",
      "166\n",
      "None\n"
     ]
    }
   ],
   "source": [
    "#Function to print all numbers divisible by 6 and not a factor of 100 in a given range(lb, ub) inclusive\n",
    "def divisible(lb,ub):\n",
    "    count=0\n",
    "    for i in range(lb,ub+1):\n",
    "        if(i%6==0 and 100%i!=0):\n",
    "            count+=1\n",
    "    print(count)\n",
    "            \n",
    "    return\n",
    "\n",
    "\n",
    "s=int(input())\n",
    "i=int(input())\n",
    "print(divisible(s,i))\n",
    "\n",
    "    "
   ]
  },
  {
   "cell_type": "code",
   "execution_count": 14,
   "metadata": {},
   "outputs": [
    {
     "name": "stdout",
     "output_type": "stream",
     "text": [
      "260100.0\n"
     ]
    }
   ],
   "source": [
    "#Function to find the average of cubes of all even numbers in a given range(lb, ub) inclusive\n",
    "def cubes(n):\n",
    "    a=n**3\n",
    "    return a\n",
    "def even(n):\n",
    "    if(n%2==0):\n",
    "        return 1\n",
    "    return -1\n",
    "def avgEven(lb,ub):\n",
    "    count=0\n",
    "    summ=0\n",
    "    for i in range(lb,ub+1):\n",
    "        if(even(i)==1):\n",
    "            count+=1\n",
    "            summ+=cubes(i)\n",
    "    print(summ/count)\n",
    "            \n",
    "avgEven(1,100)         \n",
    "        "
   ]
  },
  {
   "cell_type": "code",
   "execution_count": 22,
   "metadata": {},
   "outputs": [
    {
     "data": {
      "text/plain": [
       "[1, 5]"
      ]
     },
     "execution_count": 22,
     "metadata": {},
     "output_type": "execute_result"
    }
   ],
   "source": [
    "#Function to generate the list of factors for a given number\n",
    "def lisFactros(n):\n",
    "    li=[]\n",
    "    s=int((n/2)+1)\n",
    "    for i in range(1,n+1\n",
    "                  ):\n",
    "        if(n%i==0):\n",
    "            li.append(i)\n",
    "    return li\n",
    "lisFactros(5)"
   ]
  },
  {
   "cell_type": "code",
   "execution_count": 25,
   "metadata": {},
   "outputs": [
    {
     "data": {
      "text/plain": [
       "120"
      ]
     },
     "execution_count": 25,
     "metadata": {},
     "output_type": "execute_result"
    }
   ],
   "source": [
    "#Function to calculate the factorial of a given number\n",
    "def fact(n):\n",
    "    fac=1\n",
    "    for i in range(1,n+1):\n",
    "        fac=fac*i\n",
    "    return(fac)\n",
    "fact(5)      "
   ]
  },
  {
   "cell_type": "code",
   "execution_count": 37,
   "metadata": {},
   "outputs": [
    {
     "name": "stdout",
     "output_type": "stream",
     "text": [
      "1\n",
      "3\n",
      "5\n",
      "7\n",
      "9\n",
      "153\n",
      "371\n",
      "407\n",
      "92727\n"
     ]
    }
   ],
   "source": [
    "#Function to generate N odd Armstrong numbers\n",
    "def odd(n):\n",
    "    if(n%2!=0):\n",
    "        return 1\n",
    "    return -1\n",
    "def Armstrong(n):\n",
    "    j=str(n)\n",
    "    s=len(j)\n",
    "    summ=0\n",
    "    for i in j:\n",
    "        summ+=(int(i)**s)\n",
    "    if(n==summ):\n",
    "        return 1\n",
    "    return -1\n",
    "\n",
    "def NoddArmstrong(n):\n",
    "    for i in range(1,n+1):\n",
    "        if(Armstrong(i)==1 and odd(i)==1):\n",
    "            print(i)\n",
    "    return\n",
    "\n",
    "NoddArmstrong(1000000)    "
   ]
  },
  {
   "cell_type": "code",
   "execution_count": 58,
   "metadata": {},
   "outputs": [
    {
     "name": "stdout",
     "output_type": "stream",
     "text": [
      "(10, '*', 101, '=', 1010)\n",
      "(10, '*', 102, '=', 1020)\n",
      "(10, '*', 103, '=', 1030)\n",
      "(10, '*', 104, '=', 1040)\n",
      "(10, '*', 105, '=', 1050)\n"
     ]
    }
   ],
   "source": [
    "#Function to generate Multiplication table for a number in a given range\n",
    "def mul(a,r):\n",
    "    #for i in range(1,r+1):\n",
    "    j=a*r\n",
    "    return(a,\"*\",r,\"=\",j)\n",
    "\n",
    "#mul(int(input(\"enter which table you want to print\")),int(input(\"enter the range\")))\n",
    "def mulInRange(a,lb,ub):\n",
    "    for i in range(lb,ub+1):\n",
    "        print(mul(a,i))\n",
    "mulInRange(10,101,105)"
   ]
  },
  {
   "cell_type": "code",
   "execution_count": null,
   "metadata": {},
   "outputs": [],
   "source": []
  },
  {
   "cell_type": "code",
   "execution_count": null,
   "metadata": {},
   "outputs": [],
   "source": []
  }
 ],
 "metadata": {
  "kernelspec": {
   "display_name": "Python 3",
   "language": "python",
   "name": "python3"
  },
  "language_info": {
   "codemirror_mode": {
    "name": "ipython",
    "version": 3
   },
   "file_extension": ".py",
   "mimetype": "text/x-python",
   "name": "python",
   "nbconvert_exporter": "python",
   "pygments_lexer": "ipython3",
   "version": "3.7.3"
  }
 },
 "nbformat": 4,
 "nbformat_minor": 2
}
